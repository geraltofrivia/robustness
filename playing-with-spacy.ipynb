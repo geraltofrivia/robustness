{
 "cells": [
  {
   "cell_type": "code",
   "execution_count": 2,
   "metadata": {
    "ExecuteTime": {
     "end_time": "2019-07-31T09:40:55.657146Z",
     "start_time": "2019-07-31T09:40:54.948000Z"
    }
   },
   "outputs": [],
   "source": [
    "import spacy\n",
    "from spacy.matcher import Matcher\n",
    "nlp = spacy.load(\"en_core_web_sm\", spaces=True)"
   ]
  },
  {
   "cell_type": "code",
   "execution_count": 3,
   "metadata": {},
   "outputs": [],
   "source": [
    "from spacy.attrs import IS_SPACE"
   ]
  },
  {
   "cell_type": "code",
   "execution_count": 11,
   "metadata": {},
   "outputs": [],
   "source": [
    "doc = \"So then it's ending: so lets party bitches. Can you tell me what's it mean?\"\n",
    "doc = \"What is being cut? What has been cut? What will be cut? Which running is preferred. Where is  the crowd running towards?\"\n",
    "doc = nlp(doc)"
   ]
  },
  {
   "cell_type": "code",
   "execution_count": 12,
   "metadata": {},
   "outputs": [
    {
     "data": {
      "text/plain": [
       "(28, .)"
      ]
     },
     "execution_count": 12,
     "metadata": {},
     "output_type": "execute_result"
    }
   ],
   "source": [
    "len(doc), doc[19]"
   ]
  },
  {
   "cell_type": "raw",
   "metadata": {},
   "source": [
    "for token in doc:\n",
    "    print(token, token.i)\n",
    "    span = doc[token.i :token.i+2]\n",
    "    print(span, '|',span.text[len(token):][0] == ' ')\n",
    "    print(\"-----\")\n",
    "    \n"
   ]
  },
  {
   "cell_type": "code",
   "execution_count": 13,
   "metadata": {},
   "outputs": [
    {
     "name": "stdout",
     "output_type": "stream",
     "text": [
      "What | WP | PRON\n",
      "is | VBZ | VERB\n",
      "being | VBG | VERB\n",
      "cut | VBN | VERB\n",
      "? | . | PUNCT\n",
      "What | WP | PRON\n",
      "has | VBZ | VERB\n",
      "been | VBN | VERB\n",
      "cut | VBN | VERB\n",
      "? | . | PUNCT\n",
      "What | WP | PRON\n",
      "will | MD | VERB\n",
      "be | VB | VERB\n",
      "cut | VBN | VERB\n",
      "? | . | PUNCT\n",
      "Which | WDT | DET\n",
      "running | NN | NOUN\n",
      "is | VBZ | VERB\n",
      "preferred | VBN | VERB\n",
      ". | . | PUNCT\n",
      "Where | WRB | ADV\n",
      "is | VBZ | VERB\n",
      "  | _SP | SPACE\n",
      "the | DT | DET\n",
      "crowd | NN | NOUN\n",
      "running | VBG | VERB\n",
      "towards | RB | ADV\n",
      "? | . | PUNCT\n"
     ]
    }
   ],
   "source": [
    "for sent in doc.sents:\n",
    "    for tok in sent:\n",
    "        print(tok, '|', tok.tag_, '|', tok.pos_)"
   ]
  },
  {
   "cell_type": "code",
   "execution_count": 36,
   "metadata": {},
   "outputs": [
    {
     "ename": "TypeError",
     "evalue": "nbor() takes at most 1 positional argument (2 given)",
     "output_type": "error",
     "traceback": [
      "\u001b[0;31m---------------------------------------------------------------------------\u001b[0m",
      "\u001b[0;31mTypeError\u001b[0m                                 Traceback (most recent call last)",
      "\u001b[0;32m<ipython-input-36-f69921d5cb9d>\u001b[0m in \u001b[0;36m<module>\u001b[0;34m\u001b[0m\n\u001b[0;32m----> 1\u001b[0;31m \u001b[0mdoc\u001b[0m\u001b[0;34m[\u001b[0m\u001b[0;36m1\u001b[0m\u001b[0;34m]\u001b[0m\u001b[0;34m.\u001b[0m\u001b[0mnbor\u001b[0m\u001b[0;34m(\u001b[0m\u001b[0;36m1\u001b[0m\u001b[0;34m,\u001b[0m\u001b[0;36m3\u001b[0m\u001b[0;34m)\u001b[0m\u001b[0;34m\u001b[0m\u001b[0;34m\u001b[0m\u001b[0m\n\u001b[0m",
      "\u001b[0;32mtoken.pyx\u001b[0m in \u001b[0;36mspacy.tokens.token.Token.nbor\u001b[0;34m()\u001b[0m\n",
      "\u001b[0;31mTypeError\u001b[0m: nbor() takes at most 1 positional argument (2 given)"
     ]
    }
   ],
   "source": [
    "doc[1].nbor(1,3)"
   ]
  },
  {
   "cell_type": "code",
   "execution_count": 19,
   "metadata": {},
   "outputs": [
    {
     "name": "stdout",
     "output_type": "stream",
     "text": [
      "So | 164681854541413346 So True False\n",
      "then | 164681854541413346 then True False\n",
      "it | 13656873538139661788 it True False\n",
      "'s | 13927759927860985106 's False False\n",
      "ending | 1534113631682161808 ending True False\n",
      ": | 11532473245541075862 : False False\n",
      "so | 164681854541413346 so True False\n",
      "lets | 13927759927860985106 lets True False\n",
      "party | 15308085513773655218 party True False\n",
      "bitches | 783433942507015291 bitches True False\n",
      ". | 12646065887601541794 . False False\n",
      "Can | 16235386156175103506 Can True False\n",
      "you | 13656873538139661788 you True False\n",
      "tell | 14200088355797579614 tell True False\n",
      "me | 13656873538139661788 me True False\n",
      "what | 4808651922106831370 what True False\n",
      "'s | 13927759927860985106 's False False\n",
      "it | 13656873538139661788 it True False\n",
      "mean | 14200088355797579614 mean True False\n",
      "? | 12646065887601541794 ? False False\n"
     ]
    },
    {
     "data": {
      "text/plain": [
       "\"So then it 'sending :so lets party bitches .Can you tell me what 'sit mean ?\""
      ]
     },
     "execution_count": 19,
     "metadata": {},
     "output_type": "execute_result"
    }
   ],
   "source": [
    "alt_seq = '' + \n",
    "old_token = ''\n",
    "for token in doc:\n",
    "    print(token, '|', token.tag, token.text, token.is_alpha)\n",
    "    old_token = token.text\n",
    "    if token.is_alpha:\n",
    "        alt_seq += token.text + ' '\n",
    "    else:\n",
    "        alt_seq += token.text + ''\n",
    "    \n",
    "alt_seq"
   ]
  },
  {
   "cell_type": "code",
   "execution_count": null,
   "metadata": {},
   "outputs": [],
   "source": []
  },
  {
   "cell_type": "code",
   "execution_count": null,
   "metadata": {},
   "outputs": [],
   "source": []
  },
  {
   "cell_type": "code",
   "execution_count": 8,
   "metadata": {},
   "outputs": [],
   "source": [
    "d = nlp('foo bar')"
   ]
  },
  {
   "cell_type": "code",
   "execution_count": 10,
   "metadata": {},
   "outputs": [
    {
     "data": {
      "text/plain": [
       "['f', 'o', 'o', ' ', 'b', 'a', 'r']"
      ]
     },
     "execution_count": 10,
     "metadata": {},
     "output_type": "execute_result"
    }
   ],
   "source": [
    "\n"
   ]
  },
  {
   "cell_type": "code",
   "execution_count": null,
   "metadata": {},
   "outputs": [],
   "source": []
  }
 ],
 "metadata": {
  "kernelspec": {
   "display_name": "Python 3",
   "language": "python",
   "name": "python3"
  },
  "language_info": {
   "codemirror_mode": {
    "name": "ipython",
    "version": 3
   },
   "file_extension": ".py",
   "mimetype": "text/x-python",
   "name": "python",
   "nbconvert_exporter": "python",
   "pygments_lexer": "ipython3",
   "version": "3.6.9"
  }
 },
 "nbformat": 4,
 "nbformat_minor": 2
}
